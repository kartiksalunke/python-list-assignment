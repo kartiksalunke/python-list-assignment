{
 "cells": [
  {
   "cell_type": "code",
   "execution_count": 1,
   "id": "98761aeb-e896-4c7a-9d7a-3902e51b1acd",
   "metadata": {},
   "outputs": [],
   "source": [
    "#Q.1\n",
    "#ANS :\n",
    "#1. using append method\n",
    "#2. using insert method"
   ]
  },
  {
   "cell_type": "code",
   "execution_count": 4,
   "id": "93a98bb5-89cd-4b74-a219-69a2cd2f1f8f",
   "metadata": {},
   "outputs": [],
   "source": [
    "l = [4,5,6]"
   ]
  },
  {
   "cell_type": "code",
   "execution_count": 5,
   "id": "fd03b8cc-e5cf-4b44-99e3-4e68eab9da42",
   "metadata": {},
   "outputs": [],
   "source": [
    "l.append(7)"
   ]
  },
  {
   "cell_type": "code",
   "execution_count": 6,
   "id": "2e3458a4-4e60-446c-a1f4-167ae7b0bed5",
   "metadata": {},
   "outputs": [
    {
     "data": {
      "text/plain": [
       "[4, 5, 6, 7]"
      ]
     },
     "execution_count": 6,
     "metadata": {},
     "output_type": "execute_result"
    }
   ],
   "source": [
    "l"
   ]
  },
  {
   "cell_type": "code",
   "execution_count": 7,
   "id": "931518c3-eef3-4586-8816-4a8b50110b76",
   "metadata": {},
   "outputs": [],
   "source": [
    "l.insert(0,3)"
   ]
  },
  {
   "cell_type": "code",
   "execution_count": 8,
   "id": "e0f0ddca-b9e7-4f5e-8f97-ab0cbeca3a65",
   "metadata": {},
   "outputs": [
    {
     "data": {
      "text/plain": [
       "[3, 4, 5, 6, 7]"
      ]
     },
     "execution_count": 8,
     "metadata": {},
     "output_type": "execute_result"
    }
   ],
   "source": [
    "l"
   ]
  },
  {
   "cell_type": "markdown",
   "id": "d7f77dd0-c732-429d-9655-346e5f68218b",
   "metadata": {},
   "source": [
    "Q.2"
   ]
  },
  {
   "cell_type": "code",
   "execution_count": 10,
   "id": "5cdf72d2-182b-4256-9b6c-aa968b616e61",
   "metadata": {},
   "outputs": [],
   "source": [
    "#Ans\n",
    "#remove():\n",
    "#he remove() method is used to remove the first occurrence of a specific value from the list. It takes the value as an argument and removes the first element with that value from the list. If the value is not present in the list, it raises a ValueError exception.\n",
    "#pop() :\n",
    "#The pop() method is used to remove an element at a specific index from the list and return its value. If no index is provided, it removes and returns the last element from the list. You can also store the removed value in a variable if needed.\n"
   ]
  },
  {
   "cell_type": "code",
   "execution_count": 14,
   "id": "b4816c29-cf27-4971-9234-88ac6aff2f35",
   "metadata": {},
   "outputs": [],
   "source": [
    "#Q.3\n",
    "#Ans\n",
    "l = [5,6,2,8,2,3,48,1,1]"
   ]
  },
  {
   "cell_type": "code",
   "execution_count": 15,
   "id": "f8890fd2-0340-42f9-ae23-6dd8ca1314c4",
   "metadata": {},
   "outputs": [],
   "source": [
    "l.sort(reverse= True)"
   ]
  },
  {
   "cell_type": "code",
   "execution_count": 16,
   "id": "bb2e1629-be37-4fa4-bc33-1ec1c2aec2f6",
   "metadata": {},
   "outputs": [
    {
     "data": {
      "text/plain": [
       "[48, 8, 6, 5, 3, 2, 2, 1, 1]"
      ]
     },
     "execution_count": 16,
     "metadata": {},
     "output_type": "execute_result"
    }
   ],
   "source": [
    "l"
   ]
  },
  {
   "cell_type": "code",
   "execution_count": 28,
   "id": "c70e8869-313b-4012-914a-bc204641234c",
   "metadata": {},
   "outputs": [],
   "source": [
    "#Q.4\n",
    "#Ans:\n",
    "l2 = [4,6,4,5,4,7,4,8]"
   ]
  },
  {
   "cell_type": "code",
   "execution_count": 29,
   "id": "ecb54b61-adb9-4668-be5b-be7a61be8bf0",
   "metadata": {},
   "outputs": [
    {
     "data": {
      "text/plain": [
       "4"
      ]
     },
     "execution_count": 29,
     "metadata": {},
     "output_type": "execute_result"
    }
   ],
   "source": [
    "l2.count(4)"
   ]
  },
  {
   "cell_type": "code",
   "execution_count": 31,
   "id": "5d03b62d-82ed-4bf0-91fd-254e65bc5cbd",
   "metadata": {},
   "outputs": [],
   "source": [
    "#Q.5\n",
    "#Ans\n",
    "l2.reverse()"
   ]
  },
  {
   "cell_type": "code",
   "execution_count": 32,
   "id": "fbbc4ce6-c8f5-4c51-b087-48a942c7cd51",
   "metadata": {},
   "outputs": [
    {
     "data": {
      "text/plain": [
       "[8, 4, 7, 4, 5, 4, 6, 4]"
      ]
     },
     "execution_count": 32,
     "metadata": {},
     "output_type": "execute_result"
    }
   ],
   "source": [
    "l2"
   ]
  },
  {
   "cell_type": "code",
   "execution_count": null,
   "id": "57d29e70-66eb-410a-a38d-f12d459fab73",
   "metadata": {},
   "outputs": [],
   "source": []
  }
 ],
 "metadata": {
  "kernelspec": {
   "display_name": "Python 3 (ipykernel)",
   "language": "python",
   "name": "python3"
  },
  "language_info": {
   "codemirror_mode": {
    "name": "ipython",
    "version": 3
   },
   "file_extension": ".py",
   "mimetype": "text/x-python",
   "name": "python",
   "nbconvert_exporter": "python",
   "pygments_lexer": "ipython3",
   "version": "3.10.8"
  }
 },
 "nbformat": 4,
 "nbformat_minor": 5
}
